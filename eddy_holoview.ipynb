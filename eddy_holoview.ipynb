{
 "cells": [
  {
   "cell_type": "code",
   "execution_count": null,
   "id": "annual-latin",
   "metadata": {},
   "outputs": [],
   "source": [
    "import py_eddy_tracker_sample\n",
    "from py_eddy_tracker.generic import flatten_line_matrix\n",
    "from py_eddy_tracker.observations.tracking import TrackEddiesObservations\n",
    "import holoviews as hv\n",
    "import panel as pn\n",
    "import numpy as np\n",
    "\n",
    "hv.extension('bokeh', logo=False)\n",
    "pn.extension()\n"
   ]
  },
  {
   "cell_type": "code",
   "execution_count": null,
   "id": "changing-reading",
   "metadata": {},
   "outputs": [],
   "source": [
    "import pylook\n",
    "from os.path import dirname\n",
    "COAST = pylook.coast.CoastFile(f\"{dirname(pylook.__file__)}/gshhs_backup/binned_GSHHS_l.nc\")"
   ]
  },
  {
   "cell_type": "code",
   "execution_count": null,
   "id": "departmental-honor",
   "metadata": {},
   "outputs": [],
   "source": [
    "class MyTrackEddiesObservations(TrackEddiesObservations):\n",
    "    def visu(self, intern=True):\n",
    "        xname, yname = self.intern(intern)\n",
    "        x, y = self[xname], self[yname]\n",
    "        \n",
    "        full_time = self.time\n",
    "        available_time = list(np.unique(full_time))\n",
    "\n",
    "        slider = pn.widgets.DiscretePlayer(name=\"date\", options=available_time, value=available_time[0])\n",
    "\n",
    "        def coast(x_range, y_range):\n",
    "            if x_range is None:\n",
    "                x_range = 0,0\n",
    "                y_range = 0,0\n",
    "            return hv.Path([COAST.lines(x_range[0],y_range[0],x_range[1],y_range[1]).get_paths()[0].vertices]).options(aspect='equal')\n",
    "\n",
    "        def select(t, lon, lat):\n",
    "            mask = full_time == t\n",
    "            x_ = flatten_line_matrix(lon[mask])\n",
    "            y_ = flatten_line_matrix(lat[mask])\n",
    "            return np.array([x_, y_]).T\n",
    "\n",
    "        @pn.depends(slider)\n",
    "        def update(*args, **kwargs):\n",
    "            date = kwargs[\"value\"]\n",
    "            return hv.Path([select(date, x, y)])\n",
    "\n",
    "        @pn.depends(slider)\n",
    "        def plot_date(value):\n",
    "            return pn.pane.HTML(f\"<h1>date = {np.datetime64('1950-01-01')+np.timedelta64(value)}</h1>\")\n",
    "        \n",
    "        eddies = hv.DynamicMap(update)\n",
    "        coast_ = hv.DynamicMap(coast, streams=[hv.streams.RangeXY(source=eddies)])\n",
    "        return pn.Column(pn.Row(slider, plot_date), (eddies * coast_).opts(width=900, height=600))\n",
    "\n",
    "c = MyTrackEddiesObservations.load_file(\n",
    "    py_eddy_tracker_sample.get_demo_path(\"eddies_med_adt_allsat_dt2018/Cyclonic.zarr\")\n",
    ")\n",
    "c.contour_lon_s[:] = (c.contour_lon_s + 180) % 360 -180\n",
    "\n",
    "c.visu()"
   ]
  }
 ],
 "metadata": {
  "kernelspec": {
   "display_name": "Python 3",
   "language": "python",
   "name": "python3"
  },
  "language_info": {
   "codemirror_mode": {
    "name": "ipython",
    "version": 3
   },
   "file_extension": ".py",
   "mimetype": "text/x-python",
   "name": "python",
   "nbconvert_exporter": "python",
   "pygments_lexer": "ipython3",
   "version": "3.7.7"
  }
 },
 "nbformat": 4,
 "nbformat_minor": 5
}
