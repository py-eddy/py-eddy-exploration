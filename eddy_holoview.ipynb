{
 "cells": [
  {
   "cell_type": "code",
   "execution_count": null,
   "id": "solved-chosen",
   "metadata": {},
   "outputs": [],
   "source": [
    "from py_eddy_tracker.data import get_remote_sample, get_path\n",
    "from py_eddy_tracker.observations.network import NetworkObservations\n",
    "import numba as nb\n",
    "import holoviews as hv\n",
    "import geoviews as gv\n",
    "import geoviews.feature as gf\n",
    "import panel as pn\n",
    "import param\n",
    "import cartopy.crs as ccrs\n",
    "\n",
    "hv.extension('bokeh', logo=False)\n",
    "pn.extension()\n",
    "proj = ccrs.PlateCarree()\n",
    "\n"
   ]
  },
  {
   "cell_type": "markdown",
   "id": "floral-acting",
   "metadata": {},
   "source": [
    "# essai dans une classe"
   ]
  },
  {
   "cell_type": "code",
   "execution_count": null,
   "id": "unexpected-history",
   "metadata": {},
   "outputs": [],
   "source": [
    "proj = ccrs.PlateCarree()\n",
    "class MyNetworkObservations(NetworkObservations):\n",
    "    def visu(self, contour_type = \"speed\"):\n",
    "        if contour_type == \"speed\":\n",
    "            contour_lon = self.contour_lon_s\n",
    "            contour_lat = self.contour_lat_s\n",
    "            \n",
    "        elif contour_type == \"effective\":\n",
    "            contour_lon = self.contour_lon_e\n",
    "            contour_lat = self.contour_lat_e\n",
    "            \n",
    "        else:\n",
    "            print(\"bad contour_type\")\n",
    "            return None\n",
    "        \n",
    "#         effective, speed\n",
    "        full_time = self.time\n",
    "        timed = np.unique(full_time)\n",
    "\n",
    "#         slider = pn.widgets.IntSlider(name='date', start=int(timed[0]), end=int(timed[-1]), step=1, value=int(timed[0]))\n",
    "        slider = pn.widgets.DiscretePlayer(name=\"date\", options=list(timed), value=timed[0])\n",
    "\n",
    "        def select(tn, lon, lat):\n",
    "            mask = full_time == tn\n",
    "\n",
    "            sub_lon = lon[mask]\n",
    "            sub_lat = lat[mask]\n",
    "\n",
    "            _lon, _lat = flatten_line_matrix(sub_lon, sub_lat)\n",
    "            return np.array([_lon, _lat]).T\n",
    "\n",
    "        extents = (-4, 34, 30, 45)\n",
    "\n",
    "        @pn.depends(slider)\n",
    "        def update(*args, **kwargs):\n",
    "            print(\"args = \", args)\n",
    "            print(\"kwargs = \", kwargs)\n",
    "            date = kwargs[\"value\"]\n",
    "            return gv.Path([select(date, contour_lon, contour_lat)], crs=proj).opts(color='white')\n",
    "\n",
    "        @pn.depends(slider)\n",
    "        def plot_date(value):\n",
    "            return pn.pane.HTML(f\"<h1>date = {np.datetime64('1950-01-01')+np.timedelta64(value)}</h1>\")\n",
    "\n",
    "#            gf.land.options(scale='50m')\n",
    "#          * gf.coastline.options(scale='50m')\n",
    "        return pn.Column(\n",
    "            pn.Row(slider, plot_date),\n",
    "            (\n",
    "                 gv.tile_sources.ESRI             \n",
    "                 * hv.DynamicMap(update)\n",
    "                * gv.Points([[extents[0], extents[2]], [extents[1], extents[3]]])\n",
    "            ).opts(width=900, height=600)\n",
    "        )\n",
    "\n",
    "with Timer(\"chargement fichier\"):\n",
    "    fichier = get_path(\"network_med.nc\")\n",
    "    network = MyNetworkObservations.load_file(fichier, include_vars=[\"time\", \"track\", \"speed_contour_longitude\", \"speed_contour_latitude\"])\n",
    "\n",
    "network.remove_trash().visu(\"speed\")"
   ]
  },
  {
   "cell_type": "code",
   "execution_count": null,
   "id": "brown-forty",
   "metadata": {},
   "outputs": [],
   "source": [
    "gv.help(gv.Path())"
   ]
  },
  {
   "cell_type": "code",
   "execution_count": null,
   "id": "raising-bedroom",
   "metadata": {},
   "outputs": [],
   "source": []
  }
 ],
 "metadata": {
  "kernelspec": {
   "display_name": "Python 3",
   "language": "python",
   "name": "python3"
  },
  "language_info": {
   "codemirror_mode": {
    "name": "ipython",
    "version": 3
   },
   "file_extension": ".py",
   "mimetype": "text/x-python",
   "name": "python",
   "nbconvert_exporter": "python",
   "pygments_lexer": "ipython3",
   "version": "3.7.7"
  }
 },
 "nbformat": 4,
 "nbformat_minor": 5
}
