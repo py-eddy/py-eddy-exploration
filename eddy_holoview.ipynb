{
 "cells": [
  {
   "cell_type": "code",
   "execution_count": null,
   "id": "cardiovascular-large",
   "metadata": {},
   "outputs": [],
   "source": [
    "import py_eddy_tracker_sample\n",
    "from py_eddy_tracker.generic import flatten_line_matrix\n",
    "from py_eddy_tracker.observations.tracking import TrackEddiesObservations\n",
    "import numba as nb\n",
    "import holoviews as hv\n",
    "import panel as pn\n",
    "import numpy as np\n",
    "\n",
    "hv.extension('bokeh', logo=False)\n",
    "pn.extension()\n"
   ]
  },
  {
   "cell_type": "markdown",
   "id": "funny-browser",
   "metadata": {},
   "source": [
    "# essai dans une classe"
   ]
  },
  {
   "cell_type": "code",
   "execution_count": null,
   "id": "crucial-arena",
   "metadata": {},
   "outputs": [],
   "source": [
    "class MyTrackEddiesObservations(TrackEddiesObservations):\n",
    "    def visu(self, contour_type = \"speed\"):\n",
    "        if contour_type == \"speed\":\n",
    "            contour_lon = self.contour_lon_s\n",
    "            contour_lat = self.contour_lat_s\n",
    "            \n",
    "        elif contour_type == \"effective\":\n",
    "            contour_lon = self.contour_lon_e\n",
    "            contour_lat = self.contour_lat_e\n",
    "            \n",
    "        else:\n",
    "            print(\"bad contour_type\")\n",
    "            return None\n",
    "        \n",
    "        full_time = self.time\n",
    "        timed = np.unique(full_time)\n",
    "\n",
    "        slider = pn.widgets.DiscretePlayer(name=\"date\", options=list(timed), value=timed[0])\n",
    "\n",
    "        def select(tn, lon, lat):\n",
    "            mask = full_time == tn\n",
    "\n",
    "            sub_lon = lon[mask]\n",
    "            sub_lat = lat[mask]\n",
    "\n",
    "            _lon = flatten_line_matrix(sub_lon)\n",
    "            _lat = flatten_line_matrix(sub_lat)\n",
    "            return np.array([_lon, _lat]).T\n",
    "\n",
    "        extents = (-4, 34, 30, 45)\n",
    "\n",
    "        @pn.depends(slider)\n",
    "        def update(*args, **kwargs):\n",
    "            print(\"args = \", args)\n",
    "            print(\"kwargs = \", kwargs)\n",
    "            date = kwargs[\"value\"]\n",
    "            return hv.Path([select(date, contour_lon, contour_lat)])\n",
    "\n",
    "        @pn.depends(slider)\n",
    "        def plot_date(value):\n",
    "            return pn.pane.HTML(f\"<h1>date = {np.datetime64('1950-01-01')+np.timedelta64(value)}</h1>\")\n",
    "        return pn.Column(\n",
    "            pn.Row(slider, plot_date),\n",
    "            (       \n",
    "                 hv.DynamicMap(update)\n",
    "            ).opts(width=900, height=600)\n",
    "        )\n",
    "\n",
    "c = MyTrackEddiesObservations.load_file(\n",
    "    py_eddy_tracker_sample.get_demo_path(\"eddies_med_adt_allsat_dt2018/Cyclonic.zarr\")\n",
    ")\n",
    "c.contour_lon_s[:] = (c.contour_lon_s + 180) % 360 -180\n",
    "\n",
    "c.visu(\"speed\")"
   ]
  }
 ],
 "metadata": {
  "kernelspec": {
   "display_name": "Python 3",
   "language": "python",
   "name": "python3"
  },
  "language_info": {
   "codemirror_mode": {
    "name": "ipython",
    "version": 3
   },
   "file_extension": ".py",
   "mimetype": "text/x-python",
   "name": "python",
   "nbconvert_exporter": "python",
   "pygments_lexer": "ipython3",
   "version": "3.7.7"
  }
 },
 "nbformat": 4,
 "nbformat_minor": 5
}
