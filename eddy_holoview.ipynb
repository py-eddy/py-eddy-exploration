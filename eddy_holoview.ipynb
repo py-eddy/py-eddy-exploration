{
 "cells": [
  {
   "cell_type": "code",
   "execution_count": null,
   "id": "global-universe",
   "metadata": {},
   "outputs": [],
   "source": [
    "import holoviews as hv\n",
    "import panel as pn\n",
    "\n",
    "from py_eddy_tracker.data import get_remote_demo_sample\n",
    "from py_eddy_tracker.generic import flatten_line_matrix\n",
    "from py_eddy_tracker.poly import create_vertice\n",
    "from py_eddy_tracker.observations.network import NetworkObservations\n",
    "from numpy import where, datetime64, timedelta64"
   ]
  },
  {
   "cell_type": "code",
   "execution_count": null,
   "id": "alive-press",
   "metadata": {},
   "outputs": [],
   "source": [
    "import pylook\n",
    "from os.path import dirname\n",
    "COAST = pylook.coast.CoastFile(f\"{dirname(pylook.__file__)}/gshhs_backup/binned_GSHHS_l.nc\")"
   ]
  },
  {
   "cell_type": "code",
   "execution_count": null,
   "id": "hidden-preliminary",
   "metadata": {},
   "outputs": [],
   "source": [
    "hv.extension('bokeh', logo=False)\n",
    "pn.extension()"
   ]
  },
  {
   "cell_type": "code",
   "execution_count": null,
   "id": "impaired-appreciation",
   "metadata": {},
   "outputs": [],
   "source": [
    "a = NetworkObservations.load_file(\n",
    "    get_remote_demo_sample(\"eddies_med_adt_allsat_dt2018_err70_filt500_order1/Anticyclonic_network.nc\")\n",
    ")"
   ]
  },
  {
   "cell_type": "code",
   "execution_count": null,
   "id": "filled-tumor",
   "metadata": {},
   "outputs": [],
   "source": [
    "def visu(self, intern=True):\n",
    "    xname, yname = self.intern(intern)\n",
    "    self[xname][:] = (self[xname] + 180) % 360 -180\n",
    "    slider = pn.widgets.DiscretePlayer(name=\"date\", options=list(range(*self.period)), value=self.period[0])\n",
    "\n",
    "    def coast(x_range, y_range):\n",
    "        if x_range is None:\n",
    "            x_range = 0,0\n",
    "            y_range = 0,0\n",
    "        area = dict()\n",
    "        area['llcrnrlon'], area['urcrnrlon'] = x_range\n",
    "        area['llcrnrlat'], area['urcrnrlat'] = max(y_range[0], -90), min(y_range[1], 90)\n",
    "        return hv.Path([COAST.lines(**area).get_paths()[0].vertices]).options(aspect='equal', color='gray')\n",
    "\n",
    "    @pn.depends(slider)\n",
    "    def update(value):\n",
    "        i = where(self.time == value)[0]\n",
    "        x, y = flatten_line_matrix(self[xname][i]), flatten_line_matrix(self[yname][i])\n",
    "        return hv.Path([create_vertice(x, y)]).options(line_width=2)\n",
    "\n",
    "    @pn.depends(slider)\n",
    "    def plot_date(value):\n",
    "        return pn.pane.HTML(f\"<h1>date = {datetime64('1950-01-01') + timedelta64(value)}</h1>\")\n",
    "\n",
    "    eddies = hv.DynamicMap(update)\n",
    "    coast_ = hv.DynamicMap(coast, streams=[hv.streams.RangeXY(source=eddies, x_range=(0,30), y_range=(30,45))])\n",
    "    return pn.Column(pn.Row(slider, plot_date), (eddies * coast_).opts(width=900, height=500))\n",
    "\n",
    "\n",
    "visu(a)"
   ]
  }
 ],
 "metadata": {
  "kernelspec": {
   "display_name": "Python 3",
   "language": "python",
   "name": "python3"
  },
  "language_info": {
   "codemirror_mode": {
    "name": "ipython",
    "version": 3
   },
   "file_extension": ".py",
   "mimetype": "text/x-python",
   "name": "python",
   "nbconvert_exporter": "python",
   "pygments_lexer": "ipython3",
   "version": "3.7.7"
  }
 },
 "nbformat": 4,
 "nbformat_minor": 5
}
